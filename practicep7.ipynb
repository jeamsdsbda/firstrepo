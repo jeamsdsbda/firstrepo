{
 "cells": [
  {
   "cell_type": "code",
   "execution_count": 1,
   "id": "843e9959",
   "metadata": {},
   "outputs": [],
   "source": [
    "import nltk\n",
    "import pandas as pd"
   ]
  },
  {
   "cell_type": "code",
   "execution_count": 3,
   "id": "9094b5a7",
   "metadata": {},
   "outputs": [],
   "source": [
    "from nltk.tokenize import word_tokenize\n",
    "from nltk.corpus import stopwords"
   ]
  },
  {
   "cell_type": "code",
   "execution_count": 8,
   "id": "434c7493",
   "metadata": {},
   "outputs": [
    {
     "name": "stderr",
     "output_type": "stream",
     "text": [
      "[nltk_data] Downloading package punkt to C:\\Users\\Abhishek\n",
      "[nltk_data]     Khot\\AppData\\Roaming\\nltk_data...\n",
      "[nltk_data]   Package punkt is already up-to-date!\n"
     ]
    },
    {
     "data": {
      "text/plain": [
       "True"
      ]
     },
     "execution_count": 8,
     "metadata": {},
     "output_type": "execute_result"
    }
   ],
   "source": [
    "nltk.download('punkt')"
   ]
  },
  {
   "cell_type": "code",
   "execution_count": 9,
   "id": "6bbdb123",
   "metadata": {},
   "outputs": [],
   "source": [
    "tokens=word_tokenize('This is the TE4 class of the CE')"
   ]
  },
  {
   "cell_type": "code",
   "execution_count": 10,
   "id": "010d1976",
   "metadata": {},
   "outputs": [
    {
     "name": "stdout",
     "output_type": "stream",
     "text": [
      "['This', 'is', 'the', 'TE4', 'class', 'of', 'the', 'CE']\n"
     ]
    }
   ],
   "source": [
    "print(tokens)"
   ]
  },
  {
   "cell_type": "code",
   "execution_count": 11,
   "id": "4770c6a5",
   "metadata": {},
   "outputs": [
    {
     "name": "stderr",
     "output_type": "stream",
     "text": [
      "[nltk_data] Downloading package stopwords to C:\\Users\\Abhishek\n",
      "[nltk_data]     Khot\\AppData\\Roaming\\nltk_data...\n",
      "[nltk_data]   Unzipping corpora\\stopwords.zip.\n"
     ]
    },
    {
     "data": {
      "text/plain": [
       "True"
      ]
     },
     "execution_count": 11,
     "metadata": {},
     "output_type": "execute_result"
    }
   ],
   "source": [
    "nltk.download('stopwords')"
   ]
  },
  {
   "cell_type": "code",
   "execution_count": 14,
   "id": "4767a50c",
   "metadata": {},
   "outputs": [
    {
     "name": "stdout",
     "output_type": "stream",
     "text": [
      "['This', 'TE4', 'class', 'CE']\n"
     ]
    }
   ],
   "source": [
    "stop_words=set(stopwords.words('english'))\n",
    "tokens=[w for w in tokens if not w in stop_words]\n",
    "print(tokens)"
   ]
  },
  {
   "cell_type": "code",
   "execution_count": 17,
   "id": "bc31ff59",
   "metadata": {},
   "outputs": [
    {
     "name": "stderr",
     "output_type": "stream",
     "text": [
      "[nltk_data] Downloading package averaged_perceptron_tagger to\n",
      "[nltk_data]     C:\\Users\\Abhishek Khot\\AppData\\Roaming\\nltk_data...\n",
      "[nltk_data]   Unzipping taggers\\averaged_perceptron_tagger.zip.\n"
     ]
    },
    {
     "data": {
      "text/plain": [
       "True"
      ]
     },
     "execution_count": 17,
     "metadata": {},
     "output_type": "execute_result"
    }
   ],
   "source": [
    "nltk.download('averaged_perceptron_tagger')"
   ]
  },
  {
   "cell_type": "code",
   "execution_count": 18,
   "id": "66d01e6d",
   "metadata": {},
   "outputs": [
    {
     "name": "stdout",
     "output_type": "stream",
     "text": [
      "[('This', 'DT'), ('TE4', 'NNP'), ('class', 'NN'), ('CE', 'NNP')]\n"
     ]
    }
   ],
   "source": [
    "tagged = nltk.pos_tag(tokens)\n",
    "print(tagged)\n"
   ]
  },
  {
   "cell_type": "code",
   "execution_count": 19,
   "id": "8321a1cd",
   "metadata": {},
   "outputs": [],
   "source": [
    "from sklearn.feature_extraction.text import TfidfVectorizer"
   ]
  },
  {
   "cell_type": "code",
   "execution_count": 20,
   "id": "5a1153f8",
   "metadata": {},
   "outputs": [],
   "source": [
    "documentA=\"The man went out for the work\"\n",
    "documentB=\"The children sat around the fire\""
   ]
  },
  {
   "cell_type": "code",
   "execution_count": 21,
   "id": "c984076a",
   "metadata": {},
   "outputs": [],
   "source": [
    "bagOfWordA=word_tokenize(documentA)\n",
    "bagOfWordB=word_tokenize(documentB)"
   ]
  },
  {
   "cell_type": "code",
   "execution_count": 22,
   "id": "40b6fc2f",
   "metadata": {},
   "outputs": [
    {
     "name": "stdout",
     "output_type": "stream",
     "text": [
      "['The', 'man', 'went', 'out', 'for', 'the', 'work']\n",
      "['The', 'children', 'sat', 'around', 'the', 'fire']\n"
     ]
    }
   ],
   "source": [
    "print(bagOfWordA)\n",
    "print(bagOfWordB)"
   ]
  },
  {
   "cell_type": "code",
   "execution_count": 35,
   "id": "7957f067",
   "metadata": {},
   "outputs": [
    {
     "data": {
      "text/plain": [
       "{'The',\n",
       " 'around',\n",
       " 'children',\n",
       " 'fire',\n",
       " 'for',\n",
       " 'man',\n",
       " 'out',\n",
       " 'sat',\n",
       " 'the',\n",
       " 'went',\n",
       " 'work'}"
      ]
     },
     "execution_count": 35,
     "metadata": {},
     "output_type": "execute_result"
    }
   ],
   "source": [
    "uniqueWords=set(bagOfWordA).union(set(bagOfWordB))\n",
    "uniqueWords"
   ]
  },
  {
   "cell_type": "code",
   "execution_count": 47,
   "id": "0a277d82",
   "metadata": {},
   "outputs": [],
   "source": [
    "numOfWordsA=dict.fromkeys(uniqueWords,0)\n",
    "numOfWordsB=dict.fromkeys(uniqueWords,0)"
   ]
  },
  {
   "cell_type": "code",
   "execution_count": 48,
   "id": "89df6833",
   "metadata": {},
   "outputs": [],
   "source": [
    "for word in bagOfWordA:\n",
    "    numOfWordsA[word]+=1   \n",
    "\n",
    "for word in bagOfWordB:\n",
    "    numOfWordsB[word]+=1"
   ]
  },
  {
   "cell_type": "code",
   "execution_count": 49,
   "id": "b8b318d3",
   "metadata": {},
   "outputs": [
    {
     "data": {
      "text/plain": [
       "{'for': 1,\n",
       " 'out': 1,\n",
       " 'sat': 0,\n",
       " 'the': 1,\n",
       " 'children': 0,\n",
       " 'fire': 0,\n",
       " 'man': 1,\n",
       " 'work': 1,\n",
       " 'went': 1,\n",
       " 'around': 0,\n",
       " 'The': 1}"
      ]
     },
     "execution_count": 49,
     "metadata": {},
     "output_type": "execute_result"
    }
   ],
   "source": [
    "numOfWordsA"
   ]
  },
  {
   "cell_type": "code",
   "execution_count": 50,
   "id": "5456868b",
   "metadata": {},
   "outputs": [],
   "source": [
    "def computeTF(wordDict,bagOfWords):\n",
    "    tfDict={}\n",
    "    bagOfWordsCount=len(bagOfWords)\n",
    "    for word,count in wordDict.items():\n",
    "        tfDict[word]=count/float(bagOfWordsCount)\n",
    "    return tfDict\n"
   ]
  },
  {
   "cell_type": "code",
   "execution_count": 52,
   "id": "10aeb58d",
   "metadata": {},
   "outputs": [],
   "source": [
    "tfA=computeTF(numOfWordsA,bagOfWordA)\n",
    "tfB=computeTF(numOfWordsB,bagOfWordB)"
   ]
  },
  {
   "cell_type": "code",
   "execution_count": 53,
   "id": "ca30b53a",
   "metadata": {},
   "outputs": [
    {
     "data": {
      "text/plain": [
       "{'for': 0.14285714285714285,\n",
       " 'out': 0.14285714285714285,\n",
       " 'sat': 0.0,\n",
       " 'the': 0.14285714285714285,\n",
       " 'children': 0.0,\n",
       " 'fire': 0.0,\n",
       " 'man': 0.14285714285714285,\n",
       " 'work': 0.14285714285714285,\n",
       " 'went': 0.14285714285714285,\n",
       " 'around': 0.0,\n",
       " 'The': 0.14285714285714285}"
      ]
     },
     "execution_count": 53,
     "metadata": {},
     "output_type": "execute_result"
    }
   ],
   "source": [
    "tfA"
   ]
  },
  {
   "cell_type": "code",
   "execution_count": 54,
   "id": "cb0c9ac4",
   "metadata": {},
   "outputs": [
    {
     "data": {
      "text/plain": [
       "{'for': 0.0,\n",
       " 'out': 0.0,\n",
       " 'sat': 0.16666666666666666,\n",
       " 'the': 0.16666666666666666,\n",
       " 'children': 0.16666666666666666,\n",
       " 'fire': 0.16666666666666666,\n",
       " 'man': 0.0,\n",
       " 'work': 0.0,\n",
       " 'went': 0.0,\n",
       " 'around': 0.16666666666666666,\n",
       " 'The': 0.16666666666666666}"
      ]
     },
     "execution_count": 54,
     "metadata": {},
     "output_type": "execute_result"
    }
   ],
   "source": [
    "tfB"
   ]
  },
  {
   "cell_type": "code",
   "execution_count": 57,
   "id": "d450b016",
   "metadata": {},
   "outputs": [],
   "source": [
    "def computeIDF(documents):\n",
    "    import math\n",
    "    N = len(documents)\n",
    " \n",
    "    idfDict = dict.fromkeys(documents[0].keys(), 0)\n",
    "    for document in documents:\n",
    "        for word, val in document.items():\n",
    "            if val > 0:\n",
    "                idfDict[word] += 1\n",
    " \n",
    "    for word, val in idfDict.items():\n",
    "        idfDict[word] = math.log(N / float(val))\n",
    "    return idfDict\n"
   ]
  },
  {
   "cell_type": "code",
   "execution_count": 58,
   "id": "a8538e4e",
   "metadata": {},
   "outputs": [],
   "source": [
    "idfs=computeIDF([numOfWordsA,numOfWordsB])"
   ]
  },
  {
   "cell_type": "code",
   "execution_count": 59,
   "id": "406edba9",
   "metadata": {},
   "outputs": [
    {
     "data": {
      "text/plain": [
       "{'for': 0.6931471805599453,\n",
       " 'out': 0.6931471805599453,\n",
       " 'sat': 0.6931471805599453,\n",
       " 'the': 0.0,\n",
       " 'children': 0.6931471805599453,\n",
       " 'fire': 0.6931471805599453,\n",
       " 'man': 0.6931471805599453,\n",
       " 'work': 0.6931471805599453,\n",
       " 'went': 0.6931471805599453,\n",
       " 'around': 0.6931471805599453,\n",
       " 'The': 0.0}"
      ]
     },
     "execution_count": 59,
     "metadata": {},
     "output_type": "execute_result"
    }
   ],
   "source": [
    "idfs"
   ]
  },
  {
   "cell_type": "code",
   "execution_count": 60,
   "id": "a2b1f491",
   "metadata": {},
   "outputs": [],
   "source": [
    "def computeTFIDF(tfBagOfWord,idfs):\n",
    "    tfidf={}\n",
    "    for word, val in tfBagOfWords.items():\n",
    "        tfidf[word]=val*idfs[word]\n",
    "    return tfidf    "
   ]
  },
  {
   "cell_type": "code",
   "execution_count": 61,
   "id": "4f6196e0",
   "metadata": {},
   "outputs": [
    {
     "ename": "NameError",
     "evalue": "name 'tfBagOfWords' is not defined",
     "output_type": "error",
     "traceback": [
      "\u001b[1;31m---------------------------------------------------------------------------\u001b[0m",
      "\u001b[1;31mNameError\u001b[0m                                 Traceback (most recent call last)",
      "Input \u001b[1;32mIn [61]\u001b[0m, in \u001b[0;36m<cell line: 1>\u001b[1;34m()\u001b[0m\n\u001b[1;32m----> 1\u001b[0m tfidfA\u001b[38;5;241m=\u001b[39m\u001b[43mcomputeTFIDF\u001b[49m\u001b[43m(\u001b[49m\u001b[43mtfA\u001b[49m\u001b[43m,\u001b[49m\u001b[43m \u001b[49m\u001b[43midfs\u001b[49m\u001b[43m)\u001b[49m\n\u001b[0;32m      2\u001b[0m tfidfB\u001b[38;5;241m=\u001b[39mcomputeTFIDF(tfB, idfs)\n\u001b[0;32m      3\u001b[0m tfidfA\n",
      "Input \u001b[1;32mIn [60]\u001b[0m, in \u001b[0;36mcomputeTFIDF\u001b[1;34m(tfBagOfWord, idfs)\u001b[0m\n\u001b[0;32m      1\u001b[0m \u001b[38;5;28;01mdef\u001b[39;00m \u001b[38;5;21mcomputeTFIDF\u001b[39m(tfBagOfWord,idfs):\n\u001b[0;32m      2\u001b[0m     tfidf\u001b[38;5;241m=\u001b[39m{}\n\u001b[1;32m----> 3\u001b[0m     \u001b[38;5;28;01mfor\u001b[39;00m word, val \u001b[38;5;129;01min\u001b[39;00m \u001b[43mtfBagOfWords\u001b[49m\u001b[38;5;241m.\u001b[39mitems():\n\u001b[0;32m      4\u001b[0m         tfidf[word]\u001b[38;5;241m=\u001b[39mval\u001b[38;5;241m*\u001b[39midfs[word]\n\u001b[0;32m      5\u001b[0m     \u001b[38;5;28;01mreturn\u001b[39;00m tfidf\n",
      "\u001b[1;31mNameError\u001b[0m: name 'tfBagOfWords' is not defined"
     ]
    }
   ],
   "source": [
    "tfidfA=computeTFIDF(tfA, idfs)\n",
    "tfidfB=computeTFIDF(tfB, idfs)\n",
    "tfidfA"
   ]
  },
  {
   "cell_type": "code",
   "execution_count": null,
   "id": "adf3cc03",
   "metadata": {},
   "outputs": [],
   "source": []
  }
 ],
 "metadata": {
  "kernelspec": {
   "display_name": "Python 3 (ipykernel)",
   "language": "python",
   "name": "python3"
  },
  "language_info": {
   "codemirror_mode": {
    "name": "ipython",
    "version": 3
   },
   "file_extension": ".py",
   "mimetype": "text/x-python",
   "name": "python",
   "nbconvert_exporter": "python",
   "pygments_lexer": "ipython3",
   "version": "3.10.3"
  }
 },
 "nbformat": 4,
 "nbformat_minor": 5
}
